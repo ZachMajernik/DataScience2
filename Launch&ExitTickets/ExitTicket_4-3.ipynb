{
 "cells": [
  {
   "cell_type": "code",
   "execution_count": 1,
   "id": "d2723b4d",
   "metadata": {},
   "outputs": [
    {
     "name": "stdout",
     "output_type": "stream",
     "text": [
      "Requirement already satisfied: gymnasium in c:\\users\\zache\\anaconda3\\lib\\site-packages (0.29.1)\n",
      "Requirement already satisfied: renderlab in c:\\users\\zache\\anaconda3\\lib\\site-packages (0.1.20230421184216)\n",
      "Requirement already satisfied: numpy>=1.21.0 in c:\\users\\zache\\anaconda3\\lib\\site-packages (from gymnasium) (1.24.3)\n",
      "Requirement already satisfied: cloudpickle>=1.2.0 in c:\\users\\zache\\anaconda3\\lib\\site-packages (from gymnasium) (2.2.1)\n",
      "Requirement already satisfied: typing-extensions>=4.3.0 in c:\\users\\zache\\anaconda3\\lib\\site-packages (from gymnasium) (4.7.1)\n",
      "Requirement already satisfied: farama-notifications>=0.0.1 in c:\\users\\zache\\anaconda3\\lib\\site-packages (from gymnasium) (0.0.4)\n",
      "Requirement already satisfied: moviepy in c:\\users\\zache\\anaconda3\\lib\\site-packages (from renderlab) (1.0.3)\n",
      "Requirement already satisfied: decorator<5.0,>=4.0.2 in c:\\users\\zache\\anaconda3\\lib\\site-packages (from moviepy->renderlab) (4.4.2)\n",
      "Requirement already satisfied: tqdm<5.0,>=4.11.2 in c:\\users\\zache\\anaconda3\\lib\\site-packages (from moviepy->renderlab) (4.65.0)\n",
      "Requirement already satisfied: requests<3.0,>=2.8.1 in c:\\users\\zache\\anaconda3\\lib\\site-packages (from moviepy->renderlab) (2.31.0)\n",
      "Requirement already satisfied: proglog<=1.0.0 in c:\\users\\zache\\anaconda3\\lib\\site-packages (from moviepy->renderlab) (0.1.10)\n",
      "Requirement already satisfied: imageio<3.0,>=2.5 in c:\\users\\zache\\anaconda3\\lib\\site-packages (from moviepy->renderlab) (2.26.0)\n",
      "Requirement already satisfied: imageio-ffmpeg>=0.2.0 in c:\\users\\zache\\anaconda3\\lib\\site-packages (from moviepy->renderlab) (0.4.9)\n",
      "Requirement already satisfied: pillow>=8.3.2 in c:\\users\\zache\\anaconda3\\lib\\site-packages (from imageio<3.0,>=2.5->moviepy->renderlab) (9.4.0)\n",
      "Requirement already satisfied: setuptools in c:\\users\\zache\\anaconda3\\lib\\site-packages (from imageio-ffmpeg>=0.2.0->moviepy->renderlab) (68.0.0)\n",
      "Requirement already satisfied: charset-normalizer<4,>=2 in c:\\users\\zache\\anaconda3\\lib\\site-packages (from requests<3.0,>=2.8.1->moviepy->renderlab) (2.0.4)\n",
      "Requirement already satisfied: idna<4,>=2.5 in c:\\users\\zache\\anaconda3\\lib\\site-packages (from requests<3.0,>=2.8.1->moviepy->renderlab) (3.4)\n",
      "Requirement already satisfied: urllib3<3,>=1.21.1 in c:\\users\\zache\\anaconda3\\lib\\site-packages (from requests<3.0,>=2.8.1->moviepy->renderlab) (1.26.16)\n",
      "Requirement already satisfied: certifi>=2017.4.17 in c:\\users\\zache\\anaconda3\\lib\\site-packages (from requests<3.0,>=2.8.1->moviepy->renderlab) (2023.7.22)\n",
      "Requirement already satisfied: colorama in c:\\users\\zache\\anaconda3\\lib\\site-packages (from tqdm<5.0,>=4.11.2->moviepy->renderlab) (0.4.6)\n",
      "Requirement already satisfied: opencv-python in c:\\users\\zache\\anaconda3\\lib\\site-packages (4.9.0.80)\n",
      "Requirement already satisfied: numpy>=1.21.2 in c:\\users\\zache\\anaconda3\\lib\\site-packages (from opencv-python) (1.24.3)\n",
      "Requirement already satisfied: pygame in c:\\users\\zache\\anaconda3\\lib\\site-packages (2.5.2)\n"
     ]
    }
   ],
   "source": [
    "!pip install gymnasium renderlab\n",
    "!pip install opencv-python\n",
    "!pip install pygame"
   ]
  },
  {
   "cell_type": "code",
   "execution_count": 2,
   "id": "391040c5",
   "metadata": {},
   "outputs": [],
   "source": [
    "import gymnasium as gym\n",
    "import random\n",
    "from IPython.display import clear_output\n",
    "%config NotebookApp.iopub_msg_rate_limit=10000\n",
    "import time"
   ]
  },
  {
   "cell_type": "code",
   "execution_count": 9,
   "id": "f6431632",
   "metadata": {},
   "outputs": [],
   "source": [
    "#visualise maze:\n",
    "\n",
    "desc=[\"SFF\", \"FHF\", \"FGF\"]\n",
    "mazeSize = [len(desc),len(desc[0])]\n",
    "\n",
    "env = gym.make('FrozenLake-v1', desc=desc, map_name=\"5x5\", is_slippery=False, render_mode=\"human\") "
   ]
  },
  {
   "cell_type": "code",
   "execution_count": 4,
   "id": "325cfc01",
   "metadata": {},
   "outputs": [],
   "source": [
    "# Q-LEARNING\n",
    "\n",
    "epsilonValue = 0.05\n",
    "alpha = 0.5\n",
    "qTable = {}\n",
    "currentState = 0\n",
    "\n",
    "def resetTable():\n",
    "    global qTable\n",
    "    qTable = {}\n",
    "    for i in range(mazeSize[0]*mazeSize[1]):\n",
    "        qTable[i] = [0,0,0,0] \n",
    "    global currentState\n",
    "    currentState = 0"
   ]
  },
  {
   "cell_type": "code",
   "execution_count": 5,
   "id": "d9b5c12c",
   "metadata": {},
   "outputs": [],
   "source": [
    "def calcPossibleMoves(state):\n",
    "    possibleMoves = []\n",
    "    if (state+1) % mazeSize[1] != 0:\n",
    "        possibleMoves.append(2)\n",
    "        \n",
    "    if (state+1) % mazeSize[1] != 1:\n",
    "        if not state == 0:\n",
    "            possibleMoves.append(0)\n",
    "        \n",
    "    if state > (mazeSize[1]-1):\n",
    "        if not state == 0:\n",
    "            possibleMoves.append(3)\n",
    "    \n",
    "    if state < ((mazeSize[0] * mazeSize[1]) - mazeSize[1]):\n",
    "        possibleMoves.append(1)\n",
    "        \n",
    "    return possibleMoves"
   ]
  },
  {
   "cell_type": "code",
   "execution_count": 6,
   "id": "c6e3faa6",
   "metadata": {},
   "outputs": [],
   "source": [
    "def nextStep(state):\n",
    "    x = max(qTable[state])\n",
    "    if x >= epsilonValue:\n",
    "        nextMove = qTable[state].index(x)\n",
    "    else:\n",
    "        possMoves = calcPossibleMoves(state)\n",
    "        nextMove = possMoves[random.randrange(len(possMoves))]\n",
    "    return nextMove"
   ]
  },
  {
   "cell_type": "code",
   "execution_count": 7,
   "id": "a0405fa6",
   "metadata": {},
   "outputs": [],
   "source": [
    "convergenceThresh = 0.125\n",
    "def updateTable(direction, nextState, reward):\n",
    "    didConverge = False\n",
    "    global currentState\n",
    "    updated = qTable[currentState][direction] + alpha*(reward + max(qTable[nextState]) - qTable[currentState][direction])\n",
    "    changeInQ = abs(qTable[currentState][direction] - updated)\n",
    "    if changeInQ < convergenceThresh:\n",
    "        if changeInQ > 0:\n",
    "            didConverge = True\n",
    "    qTable[currentState][direction] = updated\n",
    "    currentState = nextState\n",
    "    return didConverge, changeInQ"
   ]
  },
  {
   "cell_type": "code",
   "execution_count": 10,
   "id": "f5e11693",
   "metadata": {},
   "outputs": [
    {
     "name": "stdout",
     "output_type": "stream",
     "text": [
      "Episode: 10/1000\n",
      "Time: 11.728 sec\n",
      "Q-Table:\n",
      "0: [0, 0.125, 0.0, 0]\n",
      "1: [0, 0.0, 0.0, 0]\n",
      "2: [0.0, 0.0, 0, 0]\n",
      "3: [0, 0.5, 0.0, 0]\n",
      "4: [0.0, 0.0, 0.0, 0]\n",
      "5: [0, 0.0, 0, 0]\n",
      "6: [0, 0, 0.875, 0]\n",
      "7: [0, 0, 0.0, 0.0625]\n",
      "8: [0.5, 0, 0, 0]\n",
      "change in Q: 0.0625\n",
      "11.727 seconds to converge\n"
     ]
    }
   ],
   "source": [
    "maxEpisodes = 1000\n",
    "currentEpisode = 1\n",
    "converged = False\n",
    "\n",
    "resetTable()\n",
    "env.reset()\n",
    "start_time = time.time()\n",
    "while currentEpisode <= maxEpisodes:\n",
    "    if converged:\n",
    "        break\n",
    "        \n",
    "    direction = nextStep(currentState)\n",
    "    observation, reward, terminated, truncated, info = env.step(direction)\n",
    "    \n",
    "    converged, changeInQ = updateTable(direction, observation, reward)\n",
    "\n",
    "    if terminated or truncated or converged:\n",
    "        observation, info = env.reset()\n",
    "        if not converged:\n",
    "            currentEpisode += 1\n",
    "\n",
    "        \n",
    "    if converged:\n",
    "        end_time = time.time()\n",
    "\n",
    "    clear_output(wait=True)\n",
    "    print(\"Episode: \" + str(currentEpisode) + \"/\" + str(maxEpisodes))\n",
    "    print(\"Time: \" + str(round(time.time()-start_time, 3)) + \" sec\")\n",
    "    print(\"Q-Table:\")\n",
    "    for i in range(len(qTable)):\n",
    "        print(str(i) + \": \" + str(qTable[i]))\n",
    "    print(\"change in Q: \" + str(changeInQ))\n",
    "            \n",
    "if converged:\n",
    "    duration = end_time - start_time\n",
    "    print(str(round(duration, 3)) + \" seconds to converge\")\n",
    "else:\n",
    "    print(\"No convergence\")"
   ]
  },
  {
   "cell_type": "code",
   "execution_count": 11,
   "id": "29b6b263",
   "metadata": {},
   "outputs": [],
   "source": [
    "env.close()"
   ]
  },
  {
   "cell_type": "code",
   "execution_count": null,
   "id": "1beb3f59",
   "metadata": {},
   "outputs": [],
   "source": []
  }
 ],
 "metadata": {
  "kernelspec": {
   "display_name": "Python 3 (ipykernel)",
   "language": "python",
   "name": "python3"
  },
  "language_info": {
   "codemirror_mode": {
    "name": "ipython",
    "version": 3
   },
   "file_extension": ".py",
   "mimetype": "text/x-python",
   "name": "python",
   "nbconvert_exporter": "python",
   "pygments_lexer": "ipython3",
   "version": "3.11.5"
  }
 },
 "nbformat": 4,
 "nbformat_minor": 5
}
