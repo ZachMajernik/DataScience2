{
 "cells": [
  {
   "cell_type": "code",
   "execution_count": 9,
   "id": "a03fd422",
   "metadata": {},
   "outputs": [],
   "source": [
    "import gymnasium as gym\n",
    "import random\n",
    "\n",
    "from IPython.display import clear_output\n",
    "%config NotebookApp.iopub_msg_rate_limit=10000\n",
    "import time"
   ]
  },
  {
   "cell_type": "code",
   "execution_count": 2,
   "id": "a97b5aaa",
   "metadata": {},
   "outputs": [],
   "source": [
    "env = gym.make(\"ALE/SpaceInvaders-v5\", render_mode=\"human\")"
   ]
  },
  {
   "cell_type": "code",
   "execution_count": 10,
   "id": "6dd22a35",
   "metadata": {},
   "outputs": [
    {
     "data": {
      "text/plain": [
       "(array([[[ 0,  0,  0],\n",
       "         [ 0,  0,  0],\n",
       "         [ 0,  0,  0],\n",
       "         ...,\n",
       "         [ 0,  0,  0],\n",
       "         [ 0,  0,  0],\n",
       "         [ 0,  0,  0]],\n",
       " \n",
       "        [[ 0,  0,  0],\n",
       "         [ 0,  0,  0],\n",
       "         [ 0,  0,  0],\n",
       "         ...,\n",
       "         [ 0,  0,  0],\n",
       "         [ 0,  0,  0],\n",
       "         [ 0,  0,  0]],\n",
       " \n",
       "        [[ 0,  0,  0],\n",
       "         [ 0,  0,  0],\n",
       "         [ 0,  0,  0],\n",
       "         ...,\n",
       "         [ 0,  0,  0],\n",
       "         [ 0,  0,  0],\n",
       "         [ 0,  0,  0]],\n",
       " \n",
       "        ...,\n",
       " \n",
       "        [[80, 89, 22],\n",
       "         [80, 89, 22],\n",
       "         [80, 89, 22],\n",
       "         ...,\n",
       "         [80, 89, 22],\n",
       "         [80, 89, 22],\n",
       "         [80, 89, 22]],\n",
       " \n",
       "        [[80, 89, 22],\n",
       "         [80, 89, 22],\n",
       "         [80, 89, 22],\n",
       "         ...,\n",
       "         [80, 89, 22],\n",
       "         [80, 89, 22],\n",
       "         [80, 89, 22]],\n",
       " \n",
       "        [[80, 89, 22],\n",
       "         [80, 89, 22],\n",
       "         [80, 89, 22],\n",
       "         ...,\n",
       "         [80, 89, 22],\n",
       "         [80, 89, 22],\n",
       "         [80, 89, 22]]], dtype=uint8),\n",
       " {'lives': 3, 'episode_frame_number': 0, 'frame_number': 128})"
      ]
     },
     "execution_count": 10,
     "metadata": {},
     "output_type": "execute_result"
    }
   ],
   "source": [
    "env.reset()"
   ]
  },
  {
   "cell_type": "code",
   "execution_count": 11,
   "id": "32fef3cb",
   "metadata": {},
   "outputs": [],
   "source": [
    "# plays through music\n",
    "for i in range(32):\n",
    "    env.step(0)"
   ]
  },
  {
   "cell_type": "code",
   "execution_count": 20,
   "id": "3a986ca4",
   "metadata": {},
   "outputs": [],
   "source": [
    "def playEpisode():\n",
    "    env.reset()\n",
    "    episodeOver = False\n",
    "    totalScore = 0\n",
    "    while not episodeOver:\n",
    "        randDirection = random.choice([1,2,3,4,5])\n",
    "        data = env.step(randDirection)\n",
    "        totalScore += data[1]\n",
    "        if int(data[4]['lives']) < 1:\n",
    "            episodeOver = True\n",
    "    return totalScore"
   ]
  },
  {
   "cell_type": "code",
   "execution_count": 21,
   "id": "2fe62c64",
   "metadata": {},
   "outputs": [],
   "source": [
    "scores = []\n",
    "for i in range(5):\n",
    "    score = playEpisode()\n",
    "    scores.append(score)"
   ]
  },
  {
   "cell_type": "code",
   "execution_count": 22,
   "id": "754bc74d",
   "metadata": {},
   "outputs": [
    {
     "data": {
      "text/plain": [
       "[75.0, 40.0, 170.0, 225.0, 240.0]"
      ]
     },
     "execution_count": 22,
     "metadata": {},
     "output_type": "execute_result"
    }
   ],
   "source": [
    "scores"
   ]
  },
  {
   "cell_type": "code",
   "execution_count": 24,
   "id": "ca7379ba",
   "metadata": {},
   "outputs": [],
   "source": [
    "env.close()"
   ]
  },
  {
   "cell_type": "code",
   "execution_count": null,
   "id": "56f09851",
   "metadata": {},
   "outputs": [],
   "source": []
  }
 ],
 "metadata": {
  "kernelspec": {
   "display_name": "Python 3 (ipykernel)",
   "language": "python",
   "name": "python3"
  },
  "language_info": {
   "codemirror_mode": {
    "name": "ipython",
    "version": 3
   },
   "file_extension": ".py",
   "mimetype": "text/x-python",
   "name": "python",
   "nbconvert_exporter": "python",
   "pygments_lexer": "ipython3",
   "version": "3.9.13"
  }
 },
 "nbformat": 4,
 "nbformat_minor": 5
}
