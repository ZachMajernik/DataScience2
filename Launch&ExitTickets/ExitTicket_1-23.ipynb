{
 "cells": [
  {
   "cell_type": "code",
   "execution_count": null,
   "id": "495fffcf",
   "metadata": {},
   "outputs": [],
   "source": [
    "import pandas as pd\n",
    "import seaborn as sns\n",
    "import matplotlib.pyplot as plt"
   ]
  },
  {
   "cell_type": "code",
   "execution_count": null,
   "id": "5107b9bf",
   "metadata": {
    "scrolled": true
   },
   "outputs": [],
   "source": [
    "df = pd.read_csv(\"Experience&Salary.csv\")\n",
    "df.head()"
   ]
  },
  {
   "cell_type": "code",
   "execution_count": null,
   "id": "2fbe7487",
   "metadata": {},
   "outputs": [],
   "source": [
    "sns.scatterplot(data=df, x='Years of Experience', y='Salary')\n",
    "regplot = sns.regplot(data=df, x='Years of Experience', y='Salary', ci=None, line_kws={'color': 'red'})\n",
    "\n",
    "lineData = regplot.get_lines()[0].get_data()\n",
    "startPoint = (lineData[0][0], lineData[1][0])\n",
    "endPoint = (lineData[0][-1], lineData[1][-1])\n",
    "\n",
    "print(f\"Start Point: {startPoint}\")\n",
    "print(f\"End Point: {endPoint}\")\n",
    "\n",
    "plt.show()"
   ]
  },
  {
   "cell_type": "code",
   "execution_count": null,
   "id": "66aa88c7",
   "metadata": {},
   "outputs": [],
   "source": [
    "#find slope\n",
    "m = round((endPoint[1] - startPoint[1])/(endPoint[0]-startPoint[0]),2)\n",
    "\n",
    "#find intercept\n",
    "# y=mx+b --> b=y-mx\n",
    "#x,y = endPoint[0],endPoint[1]\n",
    "b = round(endPoint[1]-(m*endPoint[0]), 2)\n",
    "\n",
    "print(\"equation: y = \" + str(m) + \"x + \" + str(b))"
   ]
  },
  {
   "cell_type": "code",
   "execution_count": null,
   "id": "2cc452e8",
   "metadata": {},
   "outputs": [],
   "source": []
  }
 ],
 "metadata": {
  "kernelspec": {
   "display_name": "Python 3 (ipykernel)",
   "language": "python",
   "name": "python3"
  },
  "language_info": {
   "codemirror_mode": {
    "name": "ipython",
    "version": 3
   },
   "file_extension": ".py",
   "mimetype": "text/x-python",
   "name": "python",
   "nbconvert_exporter": "python",
   "pygments_lexer": "ipython3",
   "version": "3.11.5"
  }
 },
 "nbformat": 4,
 "nbformat_minor": 5
}
