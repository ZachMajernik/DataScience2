{
 "cells": [
  {
   "cell_type": "code",
   "execution_count": 1,
   "id": "201c0370",
   "metadata": {},
   "outputs": [],
   "source": [
    "import pandas as pd\n",
    "import seaborn as sns\n",
    "import matplotlib.pyplot as plt\n",
    "from IPython.display import clear_output"
   ]
  },
  {
   "cell_type": "code",
   "execution_count": 2,
   "id": "166aa6c7",
   "metadata": {},
   "outputs": [],
   "source": [
    "data = {'x':[1,2,2,3,4,4,4,5,5,6,7,7,8,8,9,9,10,12,12,14,14,15,16,16,16,17,18,18,19,19,20,23,23,24,25],\n",
    "        'y':[1,3,2,3,3,4,3,7,6,8,7,4,7,5,8,8,9,7,8,6,9,10,11,10,9,11,10,11,11,10,11,10,12,11,12]}\n",
    "\n",
    "df = pd.DataFrame(data)"
   ]
  },
  {
   "cell_type": "code",
   "execution_count": 3,
   "id": "222df75d",
   "metadata": {},
   "outputs": [
    {
     "data": {
      "text/plain": [
       "<AxesSubplot:xlabel='x', ylabel='y'>"
      ]
     },
     "execution_count": 3,
     "metadata": {},
     "output_type": "execute_result"
    },
    {
     "data": {
      "image/png": "[encoded data removed]",
      "text/plain": [
       "<Figure size 640x480 with 1 Axes>"
      ]
     },
     "metadata": {},
     "output_type": "display_data"
    }
   ],
   "source": [
    "sns.scatterplot(data=df, x='x', y='y')"
   ]
  },
  {
   "cell_type": "code",
   "execution_count": 4,
   "id": "f9913b29",
   "metadata": {},
   "outputs": [],
   "source": [
    "#LINEAR REGRESSION\n",
    "\n",
    "#equasion: y = mx+b\n",
    "\n",
    "mRange = [0.5,2]\n",
    "mIncrement = 0.01\n",
    "bRange = [-3,3]\n",
    "bIncrement = 0.01\n",
    "\n",
    "def trainLinear(df):\n",
    "    rmseNums = {'rmse':[], 'm':[], 'b':[]}\n",
    "    rmseNums = pd.DataFrame(rmseNums)\n",
    "    \n",
    "    numToRun = (mRange[1] - mRange[0])/mIncrement\n",
    "    numRan = 0\n",
    "    m = mRange[0]\n",
    "    while m <= mRange[1]:\n",
    "        print(str(0) + \"% done\")\n",
    "        b = bRange[0]\n",
    "        while b <= bRange[1]:\n",
    "            sqResid = []\n",
    "            for i in range(len(df)):\n",
    "                actual = df.loc[i, 'y']\n",
    "                estimate = m * df.loc[i, 'x'] + b\n",
    "                sqResid.append((actual - estimate)**2)    \n",
    "            rmse = (sum(sqResid)/len(sqResid))**0.5\n",
    "            locDF = {'rmse': [rmse], 'm': [m], 'b':[b]}\n",
    "            locDF = pd.DataFrame(locDF)\n",
    "            rmseNums = pd.concat([rmseNums, locDF], ignore_index=True)\n",
    "            b += bIncrement    \n",
    "        m += mIncrement\n",
    "        numRan += 1\n",
    "        percentDone = round((numRan/numToRun)*100,2)\n",
    "        clear_output(wait=True)\n",
    "        print(str(percentDone) + \"% done\")\n",
    "    return rmseNums.loc[rmseNums['rmse'].idxmin()]\n",
    "    "
   ]
  },
  {
   "cell_type": "code",
   "execution_count": 5,
   "id": "26541881",
   "metadata": {},
   "outputs": [],
   "source": [
    "#POLYNOMIAL REGRESSION\n",
    "\n",
    "#equasion: y = a*(x-h)^0.5 +k\n",
    "\n",
    "aRange = [0.5,2]\n",
    "aIncrement = 0.125\n",
    "hRange = [0,3]\n",
    "hIncrement = 0.125\n",
    "kRange = [-3,3]\n",
    "kIncrement = 0.125\n",
    "\n",
    "def trainPolynomial(df):\n",
    "    rmseNums = {'rmse':[], 'a':[], 'h':[], 'k':[]}\n",
    "    rmseNums = pd.DataFrame(rmseNums)\n",
    "    \n",
    "    numToRun = (aRange[1] - aRange[0])/mIncrement\n",
    "    numRan = 0\n",
    "    a = aRange[0]\n",
    "    while a <= aRange[1]:\n",
    "        print(str(0) + \"% done\")\n",
    "        h = hRange[0]\n",
    "        while h <= hRange[1]:\n",
    "            k = kRange[0]\n",
    "            while k <= kRange[1]:\n",
    "                sqResid = []\n",
    "                for i in range(len(df)):\n",
    "                    actual = df.loc[i, 'y']\n",
    "                    estimate = a * ((df.loc[i, 'x'] - h)**0.5) + k\n",
    "                    sqResid.append((actual - estimate)**2)    \n",
    "                rmse = (sum(sqResid)/len(sqResid))**0.5\n",
    "                locDF = {'rmse': [rmse], 'a':[a], 'h':[h], 'k':[k]}\n",
    "                locDF = pd.DataFrame(locDF)\n",
    "                rmseNums = pd.concat([rmseNums, locDF], ignore_index=True)\n",
    "                k += kIncrement\n",
    "            h += hIncrement    \n",
    "        a += aIncrement\n",
    "        numRan += 1\n",
    "        percentDone = round((numRan/numToRun)*100,2)\n",
    "        clear_output(wait=True)\n",
    "        print(str(percentDone) + \"% done\")\n",
    "    return rmseNums.loc[rmseNums['rmse'].idxmin()]\n",
    "    "
   ]
  },
  {
   "cell_type": "code",
   "execution_count": 6,
   "id": "a4df57ac",
   "metadata": {},
   "outputs": [
    {
     "name": "stdout",
     "output_type": "stream",
     "text": [
      "100.0% done\n"
     ]
    },
    {
     "data": {
      "text/plain": [
       "rmse    1.526902\n",
       "m       0.500000\n",
       "b       1.700000\n",
       "Name: 470, dtype: float64"
      ]
     },
     "execution_count": 6,
     "metadata": {},
     "output_type": "execute_result"
    }
   ],
   "source": [
    "trainLinear(df)"
   ]
  },
  {
   "cell_type": "code",
   "execution_count": 7,
   "id": "243ec282",
   "metadata": {},
   "outputs": [
    {
     "name": "stdout",
     "output_type": "stream",
     "text": [
      "8.67% done\n"
     ]
    },
    {
     "data": {
      "text/plain": [
       "rmse    1.246086\n",
       "a       2.000000\n",
       "h       1.000000\n",
       "k       1.500000\n",
       "Name: 15128, dtype: float64"
      ]
     },
     "execution_count": 7,
     "metadata": {},
     "output_type": "execute_result"
    }
   ],
   "source": [
    "trainPolynomial(df)"
   ]
  },
  {
   "cell_type": "code",
   "execution_count": null,
   "id": "c0b92a8c",
   "metadata": {},
   "outputs": [],
   "source": []
  }
 ],
 "metadata": {
  "kernelspec": {
   "display_name": "Python 3 (ipykernel)",
   "language": "python",
   "name": "python3"
  },
  "language_info": {
   "codemirror_mode": {
    "name": "ipython",
    "version": 3
   },
   "file_extension": ".py",
   "mimetype": "text/x-python",
   "name": "python",
   "nbconvert_exporter": "python",
   "pygments_lexer": "ipython3",
   "version": "3.9.13"
  }
 },
 "nbformat": 4,
 "nbformat_minor": 5
}
