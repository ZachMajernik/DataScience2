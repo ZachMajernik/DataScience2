{
 "cells": [
  {
   "cell_type": "code",
   "execution_count": 1,
   "id": "d9fecf91",
   "metadata": {},
   "outputs": [],
   "source": [
    "import pandas as pd\n",
    "import seaborn as sns\n",
    "import matplotlib.pyplot as plt\n",
    "from math import radians, sin, cos, sqrt, atan2\n",
    "import random\n",
    "from datetime import datetime\n",
    "import time\n",
    "import re\n",
    "\n",
    "from IPython.display import clear_output\n",
    "%config NotebookApp.iopub_msg_rate_limit=100000000\n",
    "%config NotebookApp.rate_limit_window=20.0"
   ]
  },
  {
   "cell_type": "code",
   "execution_count": 2,
   "id": "2e8e6f59",
   "metadata": {},
   "outputs": [],
   "source": [
    "df_1 = pd.read_csv('crime.csv')\n",
    "\n",
    "def remove_punctuation(text):\n",
    "    return re.sub(r'[^\\w\\s]', '', text)\n",
    "\n",
    "df_1['Descript'] = df_1['Descript'].apply(remove_punctuation)\n",
    "df_1['Descript'] = df_1['Descript'].astype(str).str.lower()"
   ]
  },
  {
   "cell_type": "code",
   "execution_count": 3,
   "id": "3a68f914",
   "metadata": {},
   "outputs": [],
   "source": [
    "categories = df_1['Category'].unique().tolist()\n",
    "descripts = df_1['Descript'].unique().tolist()\n",
    "daysOfWeek = ['Sunday','Monday','Tuesday','Wednesday','Thursday','Friday','Saturday']\n",
    "districts = df_1['PdDistrict'].unique().tolist()\n",
    "resolutions = df_1['Resolution'].unique().tolist()"
   ]
  },
  {
   "cell_type": "code",
   "execution_count": 4,
   "id": "fe06d1de",
   "metadata": {},
   "outputs": [],
   "source": [
    "random.seed(333)\n",
    "\n",
    "def randIDX(df, category, num):\n",
    "    filtered_df = df.loc[df.loc[:,'Category'] == category]\n",
    "    indices = filtered_df.index.tolist()\n",
    "    random_indices = random.sample(indices, min(num, len(indices)))\n",
    "    return random_indices"
   ]
  },
  {
   "cell_type": "code",
   "execution_count": 5,
   "id": "3d34a5aa",
   "metadata": {},
   "outputs": [],
   "source": [
    "random.seed(333)\n",
    "\n",
    "trainNum = 50000\n",
    "testNum = 20000\n",
    "\n",
    "trainIDX = []\n",
    "testIDX = []\n",
    "\n",
    "staticIDX = []\n",
    "for i in range(len(categories)):\n",
    "    staticIDX.append(randIDX(df_1, categories[i], 5))\n",
    "\n",
    "while len(trainIDX) < trainNum:\n",
    "    for i in range(len(staticIDX)):\n",
    "        for j in range(len(staticIDX[i])):\n",
    "            trainIDX.append(staticIDX[i][j])\n",
    "    num = random.randint(0, len(df_1)-1)\n",
    "    if not num in trainIDX:\n",
    "        trainIDX.append(num)\n",
    "        \n",
    "while len(testIDX) < testNum:\n",
    "    num = random.randint(0, len(df_1)-1)\n",
    "    if not num in testIDX and not num in trainIDX:\n",
    "        testIDX.append(num)\n",
    "\n",
    "testDF = df_1.iloc[testIDX].reset_index(drop=True)\n",
    "trainDF = df_1.iloc[trainIDX].reset_index(drop=True)"
   ]
  },
  {
   "cell_type": "code",
   "execution_count": 6,
   "id": "bd17bfd9",
   "metadata": {},
   "outputs": [],
   "source": [
    "#common words that do not help clasify category\n",
    "wordsToExclude = ['of', 'or', 'a', 'by', 'the', 'on', 'from', 'to', 'an', 'for', 'in']\n",
    "\n",
    "def findWords(df, category, current, total):\n",
    "    locDF = df.loc[df.loc[:,'Category'] == category]\n",
    "    \n",
    "    currIteration = 1\n",
    "    allWords = []\n",
    "    for descript in locDF['Descript']:\n",
    "        words = descript.split()\n",
    "        for word in words:\n",
    "            if not word in wordsToExclude:\n",
    "                allWords.append(word)\n",
    "        percentageDone = round((((currIteration/len(locDF))*33.33333)*(1/total))+(((current-1)/total)*100),2)\n",
    "        clear_output(wait=True)\n",
    "        print(str(percentageDone) + '% done, category: ' + str(current) + '/' + str(total))\n",
    "        time.sleep(0.001)\n",
    "        currIteration += 1\n",
    "\n",
    "    dictionary = {'category':[], 'topWord':[], 'count':[], 'proportionOfAllWords':[]}\n",
    "    word_counts = pd.DataFrame(dictionary)\n",
    "    \n",
    "    currIteration = 1\n",
    "\n",
    "    for word in allWords:\n",
    "        if word in word_counts['topWord'].tolist():\n",
    "            index = word_counts[word_counts['topWord'] == word].index[0]\n",
    "            word_counts.loc[index, 'count'] += 1\n",
    "        else:\n",
    "            new_word = pd.DataFrame({'category':[category], 'topWord':[word], 'count':[1]})\n",
    "            word_counts = pd.concat([word_counts, new_word], ignore_index=True)\n",
    "        percentageDone = round(((((currIteration/len(allWords))*33.33333)+33.33333)*(1/total))+(((current-1)/total)*100),2)\n",
    "        clear_output(wait=True)\n",
    "        print(str(percentageDone) + '% done, category: ' + str(current) + '/' + str(total))\n",
    "        time.sleep(0.001)\n",
    "        currIteration += 1\n",
    "    \n",
    "    for j in range(len(word_counts)):\n",
    "        word_counts.loc[j, 'proportionOfAllWords'] = word_counts.loc[j, 'count']/len(allWords)\n",
    "        percentageDone = round((((((j+1)/len(word_counts))*33.33333)+66.66667)*(1/total))+(((current-1)/total)*100),2)\n",
    "        time.sleep(0.001)\n",
    "        clear_output(wait=True)\n",
    "        print(str(percentageDone) + '% done, category: ' + str(current) + '/' + str(total))\n",
    "         \n",
    "    word_counts = word_counts.sort_values(by='count', ascending=False).reset_index(drop=True)\n",
    "    word_counts = word_counts.drop('count', axis=1).reset_index(drop=True)  \n",
    "#     return word_counts.reset_index(drop=True).loc[[0]]\n",
    "    if len(word_counts) > 3:\n",
    "        return {'category': [word_counts.loc[0, 'category']],\n",
    "        'topWord': [word_counts.loc[0, 'topWord']], \n",
    "        'secondWord': [word_counts.loc[1, 'topWord']],\n",
    "        'thirdWord': [word_counts.loc[2, 'topWord']],\n",
    "        'fourthWord': [word_counts.loc[3, 'topWord']],\n",
    "        'proportionOfAllWords': [word_counts.loc[0, 'proportionOfAllWords']]}\n",
    "    elif len(word_counts) > 2:\n",
    "        return {'category': [word_counts.loc[0, 'category']],\n",
    "        'topWord': [word_counts.loc[0, 'topWord']], \n",
    "        'secondWord': [word_counts.loc[1, 'topWord']],\n",
    "        'thirdWord': [word_counts.loc[2, 'topWord']],\n",
    "        'fourthWord': ['null'],\n",
    "        'proportionOfAllWords': [word_counts.loc[0, 'proportionOfAllWords']]}\n",
    "    elif len(word_counts) > 1:\n",
    "        return {'category': [word_counts.loc[0, 'category']],\n",
    "        'topWord': [word_counts.loc[0, 'topWord']], \n",
    "        'secondWord': [word_counts.loc[1, 'topWord']],\n",
    "        'thirdWord': ['null'],\n",
    "        'fourthWord': ['null'],\n",
    "        'proportionOfAllWords': [word_counts.loc[0, 'proportionOfAllWords']]}\n",
    "    else:\n",
    "        return {'category': [word_counts.loc[0, 'category']],\n",
    "        'topWord': [word_counts.loc[0, 'topWord']], \n",
    "        'secondWord': ['null'],\n",
    "        'thirdWord': ['null'],\n",
    "        'fourthWord': ['null'],\n",
    "        'proportionOfAllWords': [word_counts.loc[0, 'proportionOfAllWords']]}"
   ]
  },
  {
   "cell_type": "code",
   "execution_count": 7,
   "id": "eaaadc2d",
   "metadata": {},
   "outputs": [],
   "source": [
    "def all_segments_3(sentence):\n",
    "    words = sentence.split()\n",
    "    segments = []\n",
    "    for i in range(len(words) - 2):  # Change the range to len(words) - 2 for 3-word segments\n",
    "        segment = \" \".join(words[i:i+3])  # Adjust segment creation for 3 words\n",
    "        segments.append(segment)\n",
    "    return segments\n",
    "\n",
    "def all_segments_2(sentence):\n",
    "    words = sentence.split()\n",
    "    segments = []\n",
    "    for i in range(len(words) - 1):  # Change the range to len(words) - 2 for 3-word segments\n",
    "        segment = \" \".join(words[i:i+2])  # Adjust segment creation for 3 words\n",
    "        segments.append(segment)\n",
    "    return segments\n",
    "\n",
    "def findSegments(df, category, current, total):\n",
    "    locDF = df.loc[df.loc[:,'Category'] == category]\n",
    "    \n",
    "    currIteration = 1\n",
    "    allSegments = []\n",
    "    for descript in locDF['Descript']:\n",
    "        segments = []\n",
    "        if len(descript.split()) > 2:\n",
    "            segments = all_segments_2(descript)\n",
    "        else:\n",
    "            segments.append(descript)\n",
    "        for seg in segments:\n",
    "            if not seg in allSegments:\n",
    "                allSegments.append(seg)\n",
    "        percentageDone = round(((((currIteration/len(locDF))*100))*(1/total))+(((current-1)/total)*100),2)\n",
    "        clear_output(wait=True)\n",
    "        print(str(percentageDone) + '% done, category: ' + str(current) + '/' + str(total))\n",
    "        time.sleep(0.001)\n",
    "        currIteration += 1\n",
    "        \n",
    "    dictionary = {'category':[category], 'allSegs':[allSegments]}\n",
    "    segments = pd.DataFrame(dictionary)\n",
    "    \n",
    "    return segments"
   ]
  },
  {
   "cell_type": "code",
   "execution_count": 8,
   "id": "5ba2582a",
   "metadata": {},
   "outputs": [
    {
     "name": "stdout",
     "output_type": "stream",
     "text": [
      "100.0% done, category: 39/39\n"
     ]
    }
   ],
   "source": [
    "words_df = {'category':[], 'topWord':[], 'secondWord':[], 'thirdWord':[], 'fourthWord':[], 'proportionOfAllWords':[]}\n",
    "words_df = pd.DataFrame(words_df)\n",
    "\n",
    "for i in range(len(categories)):\n",
    "    row = pd.DataFrame(findWords(trainDF, categories[i], (i+1), len(categories)))\n",
    "    words_df = pd.concat([words_df, row], ignore_index=True)"
   ]
  },
  {
   "cell_type": "code",
   "execution_count": 9,
   "id": "94ca49bc",
   "metadata": {},
   "outputs": [],
   "source": [
    "# findSegments(trainDF, categories[3], 1, 1)"
   ]
  },
  {
   "cell_type": "code",
   "execution_count": 10,
   "id": "8ce9a301",
   "metadata": {},
   "outputs": [
    {
     "name": "stdout",
     "output_type": "stream",
     "text": [
      "100.0% done, category: 39/39\n"
     ]
    }
   ],
   "source": [
    "segments_df = pd.DataFrame()\n",
    "\n",
    "for i in range(len(categories)):\n",
    "    row = pd.DataFrame(findSegments(trainDF, categories[i], (i+1), len(categories)))\n",
    "    segments_df = pd.concat([segments_df, row], ignore_index=True)"
   ]
  },
  {
   "cell_type": "code",
   "execution_count": 11,
   "id": "6a4c9af2",
   "metadata": {},
   "outputs": [
    {
     "data": {
      "text/html": [
       "<div>\n",
       "<style scoped>\n",
       "    .dataframe tbody tr th:only-of-type {\n",
       "        vertical-align: middle;\n",
       "    }\n",
       "\n",
       "    .dataframe tbody tr th {\n",
       "        vertical-align: top;\n",
       "    }\n",
       "\n",
       "    .dataframe thead th {\n",
       "        text-align: right;\n",
       "    }\n",
       "</style>\n",
       "<table border=\"1\" class=\"dataframe\">\n",
       "  <thead>\n",
       "    <tr style=\"text-align: right;\">\n",
       "      <th></th>\n",
       "      <th>category</th>\n",
       "      <th>allSegs</th>\n",
       "    </tr>\n",
       "  </thead>\n",
       "  <tbody>\n",
       "    <tr>\n",
       "      <th>0</th>\n",
       "      <td>WARRANTS</td>\n",
       "      <td>[warrant arrest, enroute to, to outside, outsi...</td>\n",
       "    </tr>\n",
       "    <tr>\n",
       "      <th>1</th>\n",
       "      <td>OTHER OFFENSES</td>\n",
       "      <td>[drivers license, license suspended, suspended...</td>\n",
       "    </tr>\n",
       "    <tr>\n",
       "      <th>2</th>\n",
       "      <td>LARCENY/THEFT</td>\n",
       "      <td>[grand theft, theft from, from locked, locked ...</td>\n",
       "    </tr>\n",
       "    <tr>\n",
       "      <th>3</th>\n",
       "      <td>VEHICLE THEFT</td>\n",
       "      <td>[recovered vehicle, vehicle stolen, stolen out...</td>\n",
       "    </tr>\n",
       "    <tr>\n",
       "      <th>4</th>\n",
       "      <td>VANDALISM</td>\n",
       "      <td>[malicious mischief, mischief vandalism, vanda...</td>\n",
       "    </tr>\n",
       "    <tr>\n",
       "      <th>5</th>\n",
       "      <td>NON-CRIMINAL</td>\n",
       "      <td>[found property, death report, report cause, c...</td>\n",
       "    </tr>\n",
       "    <tr>\n",
       "      <th>6</th>\n",
       "      <td>ROBBERY</td>\n",
       "      <td>[carjacking with, with a, a gun, robbery bodil...</td>\n",
       "    </tr>\n",
       "    <tr>\n",
       "      <th>7</th>\n",
       "      <td>ASSAULT</td>\n",
       "      <td>[threats against, against life, battery, firea...</td>\n",
       "    </tr>\n",
       "    <tr>\n",
       "      <th>8</th>\n",
       "      <td>WEAPON LAWS</td>\n",
       "      <td>[poss of, of firearm, firearm by, by convicted...</td>\n",
       "    </tr>\n",
       "    <tr>\n",
       "      <th>9</th>\n",
       "      <td>BURGLARY</td>\n",
       "      <td>[burglary of, of apartment, apartment house, h...</td>\n",
       "    </tr>\n",
       "    <tr>\n",
       "      <th>10</th>\n",
       "      <td>SUSPICIOUS OCC</td>\n",
       "      <td>[investigative detention, suspicious occurrenc...</td>\n",
       "    </tr>\n",
       "    <tr>\n",
       "      <th>11</th>\n",
       "      <td>DRUNKENNESS</td>\n",
       "      <td>[under influence, influence of, of alcohol, al...</td>\n",
       "    </tr>\n",
       "    <tr>\n",
       "      <th>12</th>\n",
       "      <td>FORGERY/COUNTERFEITING</td>\n",
       "      <td>[forgery notes, forgery drivers, drivers licen...</td>\n",
       "    </tr>\n",
       "    <tr>\n",
       "      <th>13</th>\n",
       "      <td>DRUG/NARCOTIC</td>\n",
       "      <td>[possession of, of baserock, baserock cocaine,...</td>\n",
       "    </tr>\n",
       "    <tr>\n",
       "      <th>14</th>\n",
       "      <td>STOLEN PROPERTY</td>\n",
       "      <td>[receiving stolen, stolen property, property p...</td>\n",
       "    </tr>\n",
       "    <tr>\n",
       "      <th>15</th>\n",
       "      <td>SECONDARY CODES</td>\n",
       "      <td>[domestic violence, gang activity]</td>\n",
       "    </tr>\n",
       "    <tr>\n",
       "      <th>16</th>\n",
       "      <td>TRESPASS</td>\n",
       "      <td>[trespassing]</td>\n",
       "    </tr>\n",
       "    <tr>\n",
       "      <th>17</th>\n",
       "      <td>MISSING PERSON</td>\n",
       "      <td>[missing adult, found person, missing juvenile]</td>\n",
       "    </tr>\n",
       "    <tr>\n",
       "      <th>18</th>\n",
       "      <td>FRAUD</td>\n",
       "      <td>[fraudulent use, use of, of automated, automat...</td>\n",
       "    </tr>\n",
       "    <tr>\n",
       "      <th>19</th>\n",
       "      <td>KIDNAPPING</td>\n",
       "      <td>[false imprisonment, child stealing, kidnappin...</td>\n",
       "    </tr>\n",
       "    <tr>\n",
       "      <th>20</th>\n",
       "      <td>RUNAWAY</td>\n",
       "      <td>[runaway]</td>\n",
       "    </tr>\n",
       "    <tr>\n",
       "      <th>21</th>\n",
       "      <td>DRIVING UNDER THE INFLUENCE</td>\n",
       "      <td>[driving while, while under, under the, the in...</td>\n",
       "    </tr>\n",
       "    <tr>\n",
       "      <th>22</th>\n",
       "      <td>SEX OFFENSES FORCIBLE</td>\n",
       "      <td>[sexual battery, forcible rape, rape armed, ar...</td>\n",
       "    </tr>\n",
       "    <tr>\n",
       "      <th>23</th>\n",
       "      <td>PROSTITUTION</td>\n",
       "      <td>[loitering for, for purpose, purpose of, of pr...</td>\n",
       "    </tr>\n",
       "    <tr>\n",
       "      <th>24</th>\n",
       "      <td>DISORDERLY CONDUCT</td>\n",
       "      <td>[disturbing the, the peace, peace swearing, pe...</td>\n",
       "    </tr>\n",
       "    <tr>\n",
       "      <th>25</th>\n",
       "      <td>ARSON</td>\n",
       "      <td>[arson of, of an, an inhabited, inhabited dwel...</td>\n",
       "    </tr>\n",
       "    <tr>\n",
       "      <th>26</th>\n",
       "      <td>FAMILY OFFENSES</td>\n",
       "      <td>[desertion of, of child, abandonment of, child...</td>\n",
       "    </tr>\n",
       "    <tr>\n",
       "      <th>27</th>\n",
       "      <td>LIQUOR LAWS</td>\n",
       "      <td>[sale of, of alcohol, alcohol to, to minor, po...</td>\n",
       "    </tr>\n",
       "    <tr>\n",
       "      <th>28</th>\n",
       "      <td>BRIBERY</td>\n",
       "      <td>[bribery of, of witnesses, dissuading witness,...</td>\n",
       "    </tr>\n",
       "    <tr>\n",
       "      <th>29</th>\n",
       "      <td>EMBEZZLEMENT</td>\n",
       "      <td>[embezzlement grand, grand theft, theft by, by...</td>\n",
       "    </tr>\n",
       "    <tr>\n",
       "      <th>30</th>\n",
       "      <td>SUICIDE</td>\n",
       "      <td>[suicide by, by jumping, attempted suicide, by...</td>\n",
       "    </tr>\n",
       "    <tr>\n",
       "      <th>31</th>\n",
       "      <td>LOITERING</td>\n",
       "      <td>[loitering, inciting to, to riot]</td>\n",
       "    </tr>\n",
       "    <tr>\n",
       "      <th>32</th>\n",
       "      <td>SEX OFFENSES NON FORCIBLE</td>\n",
       "      <td>[unlawful sexual, sexual intercourse]</td>\n",
       "    </tr>\n",
       "    <tr>\n",
       "      <th>33</th>\n",
       "      <td>EXTORTION</td>\n",
       "      <td>[attempted extortion, extortion]</td>\n",
       "    </tr>\n",
       "    <tr>\n",
       "      <th>34</th>\n",
       "      <td>GAMBLING</td>\n",
       "      <td>[gambling, possession of, of gambling, gamblin...</td>\n",
       "    </tr>\n",
       "    <tr>\n",
       "      <th>35</th>\n",
       "      <td>BAD CHECKS</td>\n",
       "      <td>[checks nonsufficient, nonsufficient funds, fu...</td>\n",
       "    </tr>\n",
       "    <tr>\n",
       "      <th>36</th>\n",
       "      <td>TREA</td>\n",
       "      <td>[trespassing or, or loitering, loitering near,...</td>\n",
       "    </tr>\n",
       "    <tr>\n",
       "      <th>37</th>\n",
       "      <td>RECOVERED VEHICLE</td>\n",
       "      <td>[recovered vehicle, vehicle stolen, stolen out...</td>\n",
       "    </tr>\n",
       "    <tr>\n",
       "      <th>38</th>\n",
       "      <td>PORNOGRAPHY/OBSCENE MAT</td>\n",
       "      <td>[possession of, of obscene, obscene matter, ma...</td>\n",
       "    </tr>\n",
       "  </tbody>\n",
       "</table>\n",
       "</div>"
      ],
      "text/plain": [
       "                       category  \\\n",
       "0                      WARRANTS   \n",
       "1                OTHER OFFENSES   \n",
       "2                 LARCENY/THEFT   \n",
       "3                 VEHICLE THEFT   \n",
       "4                     VANDALISM   \n",
       "5                  NON-CRIMINAL   \n",
       "6                       ROBBERY   \n",
       "7                       ASSAULT   \n",
       "8                   WEAPON LAWS   \n",
       "9                      BURGLARY   \n",
       "10               SUSPICIOUS OCC   \n",
       "11                  DRUNKENNESS   \n",
       "12       FORGERY/COUNTERFEITING   \n",
       "13                DRUG/NARCOTIC   \n",
       "14              STOLEN PROPERTY   \n",
       "15              SECONDARY CODES   \n",
       "16                     TRESPASS   \n",
       "17               MISSING PERSON   \n",
       "18                        FRAUD   \n",
       "19                   KIDNAPPING   \n",
       "20                      RUNAWAY   \n",
       "21  DRIVING UNDER THE INFLUENCE   \n",
       "22        SEX OFFENSES FORCIBLE   \n",
       "23                 PROSTITUTION   \n",
       "24           DISORDERLY CONDUCT   \n",
       "25                        ARSON   \n",
       "26              FAMILY OFFENSES   \n",
       "27                  LIQUOR LAWS   \n",
       "28                      BRIBERY   \n",
       "29                 EMBEZZLEMENT   \n",
       "30                      SUICIDE   \n",
       "31                    LOITERING   \n",
       "32    SEX OFFENSES NON FORCIBLE   \n",
       "33                    EXTORTION   \n",
       "34                     GAMBLING   \n",
       "35                   BAD CHECKS   \n",
       "36                         TREA   \n",
       "37            RECOVERED VEHICLE   \n",
       "38      PORNOGRAPHY/OBSCENE MAT   \n",
       "\n",
       "                                              allSegs  \n",
       "0   [warrant arrest, enroute to, to outside, outsi...  \n",
       "1   [drivers license, license suspended, suspended...  \n",
       "2   [grand theft, theft from, from locked, locked ...  \n",
       "3   [recovered vehicle, vehicle stolen, stolen out...  \n",
       "4   [malicious mischief, mischief vandalism, vanda...  \n",
       "5   [found property, death report, report cause, c...  \n",
       "6   [carjacking with, with a, a gun, robbery bodil...  \n",
       "7   [threats against, against life, battery, firea...  \n",
       "8   [poss of, of firearm, firearm by, by convicted...  \n",
       "9   [burglary of, of apartment, apartment house, h...  \n",
       "10  [investigative detention, suspicious occurrenc...  \n",
       "11  [under influence, influence of, of alcohol, al...  \n",
       "12  [forgery notes, forgery drivers, drivers licen...  \n",
       "13  [possession of, of baserock, baserock cocaine,...  \n",
       "14  [receiving stolen, stolen property, property p...  \n",
       "15                 [domestic violence, gang activity]  \n",
       "16                                      [trespassing]  \n",
       "17    [missing adult, found person, missing juvenile]  \n",
       "18  [fraudulent use, use of, of automated, automat...  \n",
       "19  [false imprisonment, child stealing, kidnappin...  \n",
       "20                                          [runaway]  \n",
       "21  [driving while, while under, under the, the in...  \n",
       "22  [sexual battery, forcible rape, rape armed, ar...  \n",
       "23  [loitering for, for purpose, purpose of, of pr...  \n",
       "24  [disturbing the, the peace, peace swearing, pe...  \n",
       "25  [arson of, of an, an inhabited, inhabited dwel...  \n",
       "26  [desertion of, of child, abandonment of, child...  \n",
       "27  [sale of, of alcohol, alcohol to, to minor, po...  \n",
       "28  [bribery of, of witnesses, dissuading witness,...  \n",
       "29  [embezzlement grand, grand theft, theft by, by...  \n",
       "30  [suicide by, by jumping, attempted suicide, by...  \n",
       "31                  [loitering, inciting to, to riot]  \n",
       "32              [unlawful sexual, sexual intercourse]  \n",
       "33                   [attempted extortion, extortion]  \n",
       "34  [gambling, possession of, of gambling, gamblin...  \n",
       "35  [checks nonsufficient, nonsufficient funds, fu...  \n",
       "36  [trespassing or, or loitering, loitering near,...  \n",
       "37  [recovered vehicle, vehicle stolen, stolen out...  \n",
       "38  [possession of, of obscene, obscene matter, ma...  "
      ]
     },
     "execution_count": 11,
     "metadata": {},
     "output_type": "execute_result"
    }
   ],
   "source": [
    "segments_df"
   ]
  },
  {
   "cell_type": "code",
   "execution_count": 12,
   "id": "e4cd6495",
   "metadata": {},
   "outputs": [],
   "source": [
    "def row_Matches(df, rowToCheck):\n",
    "    numOfMatches = 0\n",
    "    for i in range(len(df)):\n",
    "        if rowToCheck['category'] == df.loc[i, 'category']:\n",
    "            numOfMatches += 1\n",
    "    if numOfMatches > 0:\n",
    "        return True\n",
    "    else:\n",
    "        return False\n",
    "\n",
    "def clasify(unknown, tree):\n",
    "    words = unknown['Descript'].split()\n",
    "    possibleCats = pd.DataFrame()\n",
    "    for word in words:\n",
    "        row1 = tree.loc[tree.loc[:, 'topWord'] == word]\n",
    "        possibleCats = pd.concat([possibleCats, row1], ignore_index=True).reset_index(drop=True)\n",
    "        row2 = tree.loc[tree.loc[:, 'secondWord'] == word]\n",
    "        if not row2.empty and not row_Matches(possibleCats, row2.iloc[0]):  # Check if row2 is not empty before accessing its first row\n",
    "            possibleCats = pd.concat([possibleCats, row2], ignore_index=True).reset_index(drop=True)\n",
    "        row3 = tree.loc[tree.loc[:, 'thirdWord'] == word]\n",
    "        if not row3.empty and not row_Matches(possibleCats, row3.iloc[0]):  # Check if row3 is not empty before accessing its first row\n",
    "            possibleCats = pd.concat([possibleCats, row3], ignore_index=True).reset_index(drop=True)\n",
    "        row4 = tree.loc[tree.loc[:, 'fourthWord'] == word]\n",
    "        if not row4.empty and not row_Matches(possibleCats, row4.iloc[0]):  # Check if row3 is not empty before accessing its first row\n",
    "            possibleCats = pd.concat([possibleCats, row4], ignore_index=True).reset_index(drop=True)\n",
    "            \n",
    "    wordMatches = []\n",
    "    for i in range(len(possibleCats)):\n",
    "        matches = 0\n",
    "        if possibleCats.loc[i, 'topWord'] in words:\n",
    "            matches += 1\n",
    "        if possibleCats.loc[i, 'secondWord'] in words:\n",
    "            matches += 1\n",
    "        if possibleCats.loc[i, 'thirdWord'] in words:\n",
    "            matches += 1\n",
    "        if possibleCats.loc[i, 'fourthWord'] in words:\n",
    "            matches += 1\n",
    "        wordMatches.append(matches)\n",
    "        \n",
    "    if len(possibleCats) > 1:\n",
    "        maxValue = max(wordMatches)\n",
    "        maxIDX = wordMatches.index(maxValue)\n",
    "        possibleCats = possibleCats.iloc[[maxIDX]].reset_index(drop=True)\n",
    "        \n",
    "        return possibleCats.loc[0, 'category']\n",
    "    \n",
    "    if len(possibleCats) > 0:\n",
    "        possibleCats = possibleCats.reset_index(drop=True)\n",
    "        return possibleCats.loc[0, 'category']\n",
    "    else:\n",
    "        return 'unsure'"
   ]
  },
  {
   "cell_type": "code",
   "execution_count": 13,
   "id": "ac9c2d4c",
   "metadata": {},
   "outputs": [
    {
     "name": "stdout",
     "output_type": "stream",
     "text": [
      "100.0% done\n"
     ]
    }
   ],
   "source": [
    "answers = pd.DataFrame()\n",
    "for i in range(len(testDF)):\n",
    "    x = clasify(testDF.iloc[i], words_df)\n",
    "    y = 0\n",
    "    if x == testDF.loc[i, 'Category']:\n",
    "        y = 1\n",
    "    row = pd.DataFrame({'actual': [testDF.loc[i, 'Category']], 'predicted': [x], 'correct': [y]})\n",
    "    answers = pd.concat([answers, row], ignore_index=True).reset_index(drop=True)\n",
    "    \n",
    "    percentageDone = round((i+1)/len(testDF)*100,2)\n",
    "    time.sleep(0.001)\n",
    "    clear_output(wait=True)\n",
    "    print(str(percentageDone) + '% done')"
   ]
  },
  {
   "cell_type": "code",
   "execution_count": 14,
   "id": "b9104dfb",
   "metadata": {},
   "outputs": [
    {
     "data": {
      "text/plain": [
       "74.57000000000001"
      ]
     },
     "execution_count": 14,
     "metadata": {},
     "output_type": "execute_result"
    }
   ],
   "source": [
    "percentCorrect = (answers['correct'].sum()/len(answers))*100\n",
    "percentCorrect"
   ]
  },
  {
   "cell_type": "code",
   "execution_count": 15,
   "id": "f47bc613",
   "metadata": {},
   "outputs": [],
   "source": [
    "def findCats(df, df_1, stringList, key):\n",
    "    for i in range(len(df)):\n",
    "        if df.loc[i, key] in stringList:\n",
    "            row = df.iloc[[i]]\n",
    "            if not row_Matches(df_1, row.iloc[0]):\n",
    "                df_1 = pd.concat([df_1, row], ignore_index=True).reset_index(drop=True)\n",
    "    df = df_1\n",
    "    return df\n",
    "        \n",
    "def tree(unknownDescript, df):\n",
    "    words = unknownDescript.split()\n",
    "    words.append('null')\n",
    "    \n",
    "    possibleCats = pd.DataFrame()\n",
    "    possibleCats_1 = pd.DataFrame()\n",
    "    \n",
    "    for i in range(len(df)):\n",
    "        if df.loc[i, 'topWord'] in words:\n",
    "            row = df.iloc[[i]]\n",
    "            if not row_Matches(possibleCats, row.iloc[0]):\n",
    "                possibleCats = pd.concat([possibleCats, row], ignore_index=True).reset_index(drop=True)\n",
    "#         if df.loc[i, 'secondWord'] in words:\n",
    "#             row = df.iloc[[i]]\n",
    "#             if not row_Matches(possibleCats, row.iloc[0]):\n",
    "#                 possibleCats = pd.concat([possibleCats, row], ignore_index=True).reset_index(drop=True)\n",
    "#         if df.loc[i, 'thirdWord'] in words:\n",
    "#             row = df.iloc[[i]]\n",
    "#             if not row_Matches(possibleCats, row.iloc[0]):\n",
    "#                 possibleCats = pd.concat([possibleCats, row], ignore_index=True).reset_index(drop=True)\n",
    "            \n",
    "#     print(possibleCats)\n",
    "                \n",
    "    if len(possibleCats) == 1:\n",
    "        return possibleCats.loc[0, 'category']\n",
    "    if len(possibleCats) > 0:\n",
    "        possibleCats_1 = pd.DataFrame()\n",
    "        possibleCats = findCats(possibleCats, possibleCats_1, words, 'secondWord')\n",
    "        \n",
    "#     print('-----------------------------')\n",
    "#     print(possibleCats)\n",
    "        \n",
    "    if len(possibleCats) == 1:\n",
    "        return possibleCats.loc[0, 'category']\n",
    "    if len(possibleCats) > 0:\n",
    "        possibleCats_1 = pd.DataFrame()\n",
    "        possibleCats = findCats(possibleCats, possibleCats_1, words, 'thirdWord')\n",
    "        \n",
    "#     print('-----------------------------')\n",
    "#     print(possibleCats)\n",
    "        \n",
    "    if len(possibleCats) == 1:\n",
    "        return possibleCats.loc[0, 'category']\n",
    "    if len(possibleCats) > 0:\n",
    "        possibleCats_1 = pd.DataFrame()\n",
    "        possibleCats = findCats(possibleCats, possibleCats_1, words, 'fourthWord')\n",
    "        \n",
    "#     print('-----------------------------')\n",
    "#     print(possibleCats)\n",
    "        \n",
    "    if len(possibleCats) == 1:\n",
    "        return possibleCats.loc[0, 'category']\n",
    "    else:\n",
    "        return 'unsure'"
   ]
  },
  {
   "cell_type": "code",
   "execution_count": 16,
   "id": "49e5a992",
   "metadata": {
    "scrolled": false
   },
   "outputs": [
    {
     "name": "stdout",
     "output_type": "stream",
     "text": [
      "100.0% done\n"
     ]
    }
   ],
   "source": [
    "tree_answers = pd.DataFrame()    \n",
    "for i in range(len(testDF)):\n",
    "    x = tree(testDF.loc[i, 'Descript'], words_df)\n",
    "    y = 0\n",
    "    if x == testDF.loc[i, 'Category']:\n",
    "        y = 1\n",
    "    row = pd.DataFrame({'actual': [testDF.loc[i, 'Category']], 'predicted': [x], 'correct': [y]})\n",
    "    tree_answers = pd.concat([tree_answers, row], ignore_index=True).reset_index(drop=True)\n",
    "    \n",
    "    percentageDone = round((i+1)/len(testDF)*100,2)\n",
    "    time.sleep(0.001)\n",
    "    clear_output(wait=True)\n",
    "    print(str(percentageDone) + '% done')"
   ]
  },
  {
   "cell_type": "code",
   "execution_count": 17,
   "id": "da74ed03",
   "metadata": {},
   "outputs": [
    {
     "data": {
      "text/plain": [
       "63.995000000000005"
      ]
     },
     "execution_count": 17,
     "metadata": {},
     "output_type": "execute_result"
    }
   ],
   "source": [
    "percentCorrect_tree = (tree_answers['correct'].sum()/len(tree_answers))*100\n",
    "percentCorrect_tree"
   ]
  },
  {
   "cell_type": "code",
   "execution_count": 18,
   "id": "0ad21e8f",
   "metadata": {},
   "outputs": [],
   "source": [
    "def seg_tree(unknownDescript, df):\n",
    "    segments = []\n",
    "    if len(unknownDescript.split()) > 2:\n",
    "        segments = all_segments_2(unknownDescript)\n",
    "    else:\n",
    "        segments.append(unknownDescript)\n",
    "        \n",
    "    possibleCats = pd.DataFrame()\n",
    "    \n",
    "    for i in range(len(df)):\n",
    "        for seg in df.loc[i, 'allSegs']:\n",
    "            if seg in segments:\n",
    "                row = df.iloc[[i]]\n",
    "                if not row_Matches(possibleCats, row.iloc[0]):\n",
    "                    possibleCats = pd.concat([possibleCats, row], ignore_index=True).reset_index(drop=True)\n",
    "            \n",
    "    segMatches = []\n",
    "    for i in range(len(possibleCats)):\n",
    "        matches = 0 \n",
    "        for seg in possibleCats.loc[i, 'allSegs']:\n",
    "            if seg in segments:\n",
    "                matches += 1\n",
    "        segMatches.append(matches)\n",
    "        \n",
    "    if len(possibleCats) > 0:\n",
    "        maxValue = max(segMatches)\n",
    "        maxIDX = segMatches.index(maxValue)\n",
    "        possibleCats = possibleCats.iloc[[maxIDX]].reset_index(drop=True)\n",
    "        \n",
    "        return possibleCats.loc[0, 'category']\n",
    "    else:\n",
    "        return 'unsure'"
   ]
  },
  {
   "cell_type": "code",
   "execution_count": 19,
   "id": "b1fa4768",
   "metadata": {},
   "outputs": [
    {
     "name": "stdout",
     "output_type": "stream",
     "text": [
      "100.0% done\n"
     ]
    }
   ],
   "source": [
    "seg_answers = pd.DataFrame()    \n",
    "for i in range(len(testDF)):\n",
    "    x = seg_tree(testDF.loc[i, 'Descript'], segments_df)\n",
    "    y = 0\n",
    "    if x == testDF.loc[i, 'Category']:\n",
    "        y = 1\n",
    "    row = pd.DataFrame({'actual': [testDF.loc[i, 'Category']], 'predicted': [x], 'correct': [y]})\n",
    "    seg_answers = pd.concat([seg_answers, row], ignore_index=True).reset_index(drop=True)\n",
    "    \n",
    "    percentageDone = round((i+1)/len(testDF)*100,2)\n",
    "    time.sleep(0.001)\n",
    "    clear_output(wait=True)\n",
    "    print(str(percentageDone) + '% done')"
   ]
  },
  {
   "cell_type": "code",
   "execution_count": 20,
   "id": "fdca36d7",
   "metadata": {},
   "outputs": [
    {
     "data": {
      "text/plain": [
       "88.03"
      ]
     },
     "execution_count": 20,
     "metadata": {},
     "output_type": "execute_result"
    }
   ],
   "source": [
    "percentCorrect_segments = (seg_answers['correct'].sum()/len(seg_answers))*100\n",
    "percentCorrect_segments"
   ]
  },
  {
   "cell_type": "code",
   "execution_count": 39,
   "id": "400af5a1",
   "metadata": {},
   "outputs": [
    {
     "data": {
      "text/plain": [
       "'LARCENY/THEFT'"
      ]
     },
     "execution_count": 39,
     "metadata": {},
     "output_type": "execute_result"
    }
   ],
   "source": [
    "idx = 1590\n",
    "word2 = seg_tree(testDF.loc[idx, 'Descript'], segments_df)\n",
    "word2"
   ]
  },
  {
   "cell_type": "code",
   "execution_count": 40,
   "id": "3180a8da",
   "metadata": {},
   "outputs": [
    {
     "data": {
      "text/plain": [
       "'NON-CRIMINAL'"
      ]
     },
     "execution_count": 40,
     "metadata": {},
     "output_type": "execute_result"
    }
   ],
   "source": [
    "word = testDF.loc[idx, 'Category']\n",
    "word"
   ]
  },
  {
   "cell_type": "code",
   "execution_count": 41,
   "id": "5ab54be3",
   "metadata": {},
   "outputs": [
    {
     "data": {
      "text/plain": [
       "'lost property'"
      ]
     },
     "execution_count": 41,
     "metadata": {},
     "output_type": "execute_result"
    }
   ],
   "source": [
    "testDF.loc[idx, 'Descript']"
   ]
  },
  {
   "cell_type": "code",
   "execution_count": 42,
   "id": "991bf0c3",
   "metadata": {},
   "outputs": [
    {
     "data": {
      "text/plain": [
       "['found property',\n",
       " 'death report',\n",
       " 'report cause',\n",
       " 'cause unknown',\n",
       " 'lost property',\n",
       " 'aided case',\n",
       " 'case mental',\n",
       " 'mental disturbed',\n",
       " 'case dog',\n",
       " 'dog bite',\n",
       " 'case closure',\n",
       " 'stay away',\n",
       " 'away or',\n",
       " 'or court',\n",
       " 'court order',\n",
       " 'order nondv',\n",
       " 'nondv related',\n",
       " 'case property',\n",
       " 'property for',\n",
       " 'for destruction',\n",
       " 'shelter']"
      ]
     },
     "execution_count": 42,
     "metadata": {},
     "output_type": "execute_result"
    }
   ],
   "source": [
    "num = segments_df.loc[segments_df['category'] == word].index[0]\n",
    "segments_df.loc[num, 'allSegs']"
   ]
  },
  {
   "cell_type": "code",
   "execution_count": 43,
   "id": "7efae60b",
   "metadata": {},
   "outputs": [
    {
     "data": {
      "text/plain": [
       "['grand theft',\n",
       " 'theft from',\n",
       " 'from locked',\n",
       " 'locked auto',\n",
       " 'petty theft',\n",
       " 'theft of',\n",
       " 'of property',\n",
       " 'lost property',\n",
       " 'property petty',\n",
       " 'theft shoplifting',\n",
       " 'from a',\n",
       " 'a building',\n",
       " 'from person',\n",
       " 'theft bicycle',\n",
       " 'attempted theft',\n",
       " 'locked vehicle',\n",
       " 'theft pickpocket']"
      ]
     },
     "execution_count": 43,
     "metadata": {},
     "output_type": "execute_result"
    }
   ],
   "source": [
    "num2 = segments_df.loc[segments_df['category'] == word2].index[0]\n",
    "segments_df.loc[num2, 'allSegs']"
   ]
  },
  {
   "cell_type": "code",
   "execution_count": 36,
   "id": "6d7793d1",
   "metadata": {},
   "outputs": [
    {
     "data": {
      "text/plain": [
       "['lost property']"
      ]
     },
     "execution_count": 36,
     "metadata": {},
     "output_type": "execute_result"
    }
   ],
   "source": [
    "all_segments_2(testDF.loc[idx, 'Descript'])"
   ]
  },
  {
   "cell_type": "code",
   "execution_count": null,
   "id": "981c0f40",
   "metadata": {},
   "outputs": [],
   "source": []
  }
 ],
 "metadata": {
  "kernelspec": {
   "display_name": "Python 3 (ipykernel)",
   "language": "python",
   "name": "python3"
  },
  "language_info": {
   "codemirror_mode": {
    "name": "ipython",
    "version": 3
   },
   "file_extension": ".py",
   "mimetype": "text/x-python",
   "name": "python",
   "nbconvert_exporter": "python",
   "pygments_lexer": "ipython3",
   "version": "3.11.5"
  }
 },
 "nbformat": 4,
 "nbformat_minor": 5
}
