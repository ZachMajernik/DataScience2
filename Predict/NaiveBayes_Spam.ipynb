{
 "cells": [
  {
   "cell_type": "code",
   "execution_count": 6,
   "metadata": {
    "id": "ot58WZhC8T0H"
   },
   "outputs": [],
   "source": [
    "import pandas as pd\n",
    "# from google.colab import files"
   ]
  },
  {
   "cell_type": "code",
   "execution_count": 7,
   "metadata": {
    "id": "NCSaHp4z8fdv"
   },
   "outputs": [],
   "source": [
    "# Read in data and make all texts lowercase\n",
    "spam = pd.read_csv(\"SpamData.csv\")\n",
    "spam.Message = spam.Message.str.lower() # convert to lower case"
   ]
  },
  {
   "cell_type": "code",
   "execution_count": 9,
   "metadata": {
    "colab": {
     "base_uri": "https://localhost:8080/"
    },
    "id": "kGPWp2CKFypx",
    "outputId": "d150c478-70f0-46c0-a444-1d3d448c5ac3"
   },
   "outputs": [
    {
     "ename": "KeyError",
     "evalue": "\"['Unnamed: 2', 'Unnamed: 3', 'Unnamed: 4'] not found in axis\"",
     "output_type": "error",
     "traceback": [
      "\u001b[1;31m---------------------------------------------------------------------------\u001b[0m",
      "\u001b[1;31mKeyError\u001b[0m                                  Traceback (most recent call last)",
      "Cell \u001b[1;32mIn[9], line 2\u001b[0m\n\u001b[0;32m      1\u001b[0m \u001b[38;5;66;03m# Drop unnecessary columns\u001b[39;00m\n\u001b[1;32m----> 2\u001b[0m spam\u001b[38;5;241m.\u001b[39mdrop([\u001b[38;5;124m'\u001b[39m\u001b[38;5;124mUnnamed: 2\u001b[39m\u001b[38;5;124m'\u001b[39m, \u001b[38;5;124m'\u001b[39m\u001b[38;5;124mUnnamed: 3\u001b[39m\u001b[38;5;124m'\u001b[39m, \u001b[38;5;124m'\u001b[39m\u001b[38;5;124mUnnamed: 4\u001b[39m\u001b[38;5;124m'\u001b[39m], axis\u001b[38;5;241m=\u001b[39m\u001b[38;5;241m1\u001b[39m, inplace\u001b[38;5;241m=\u001b[39m\u001b[38;5;28;01mTrue\u001b[39;00m)\n\u001b[0;32m      3\u001b[0m spam\u001b[38;5;241m.\u001b[39mhead(\u001b[38;5;241m20\u001b[39m)\n",
      "File \u001b[1;32m~\\anaconda3\\Lib\\site-packages\\pandas\\core\\frame.py:5258\u001b[0m, in \u001b[0;36mDataFrame.drop\u001b[1;34m(self, labels, axis, index, columns, level, inplace, errors)\u001b[0m\n\u001b[0;32m   5110\u001b[0m \u001b[38;5;28;01mdef\u001b[39;00m \u001b[38;5;21mdrop\u001b[39m(\n\u001b[0;32m   5111\u001b[0m     \u001b[38;5;28mself\u001b[39m,\n\u001b[0;32m   5112\u001b[0m     labels: IndexLabel \u001b[38;5;241m=\u001b[39m \u001b[38;5;28;01mNone\u001b[39;00m,\n\u001b[1;32m   (...)\u001b[0m\n\u001b[0;32m   5119\u001b[0m     errors: IgnoreRaise \u001b[38;5;241m=\u001b[39m \u001b[38;5;124m\"\u001b[39m\u001b[38;5;124mraise\u001b[39m\u001b[38;5;124m\"\u001b[39m,\n\u001b[0;32m   5120\u001b[0m ) \u001b[38;5;241m-\u001b[39m\u001b[38;5;241m>\u001b[39m DataFrame \u001b[38;5;241m|\u001b[39m \u001b[38;5;28;01mNone\u001b[39;00m:\n\u001b[0;32m   5121\u001b[0m \u001b[38;5;250m    \u001b[39m\u001b[38;5;124;03m\"\"\"\u001b[39;00m\n\u001b[0;32m   5122\u001b[0m \u001b[38;5;124;03m    Drop specified labels from rows or columns.\u001b[39;00m\n\u001b[0;32m   5123\u001b[0m \n\u001b[1;32m   (...)\u001b[0m\n\u001b[0;32m   5256\u001b[0m \u001b[38;5;124;03m            weight  1.0     0.8\u001b[39;00m\n\u001b[0;32m   5257\u001b[0m \u001b[38;5;124;03m    \"\"\"\u001b[39;00m\n\u001b[1;32m-> 5258\u001b[0m     \u001b[38;5;28;01mreturn\u001b[39;00m \u001b[38;5;28msuper\u001b[39m()\u001b[38;5;241m.\u001b[39mdrop(\n\u001b[0;32m   5259\u001b[0m         labels\u001b[38;5;241m=\u001b[39mlabels,\n\u001b[0;32m   5260\u001b[0m         axis\u001b[38;5;241m=\u001b[39maxis,\n\u001b[0;32m   5261\u001b[0m         index\u001b[38;5;241m=\u001b[39mindex,\n\u001b[0;32m   5262\u001b[0m         columns\u001b[38;5;241m=\u001b[39mcolumns,\n\u001b[0;32m   5263\u001b[0m         level\u001b[38;5;241m=\u001b[39mlevel,\n\u001b[0;32m   5264\u001b[0m         inplace\u001b[38;5;241m=\u001b[39minplace,\n\u001b[0;32m   5265\u001b[0m         errors\u001b[38;5;241m=\u001b[39merrors,\n\u001b[0;32m   5266\u001b[0m     )\n",
      "File \u001b[1;32m~\\anaconda3\\Lib\\site-packages\\pandas\\core\\generic.py:4549\u001b[0m, in \u001b[0;36mNDFrame.drop\u001b[1;34m(self, labels, axis, index, columns, level, inplace, errors)\u001b[0m\n\u001b[0;32m   4547\u001b[0m \u001b[38;5;28;01mfor\u001b[39;00m axis, labels \u001b[38;5;129;01min\u001b[39;00m axes\u001b[38;5;241m.\u001b[39mitems():\n\u001b[0;32m   4548\u001b[0m     \u001b[38;5;28;01mif\u001b[39;00m labels \u001b[38;5;129;01mis\u001b[39;00m \u001b[38;5;129;01mnot\u001b[39;00m \u001b[38;5;28;01mNone\u001b[39;00m:\n\u001b[1;32m-> 4549\u001b[0m         obj \u001b[38;5;241m=\u001b[39m obj\u001b[38;5;241m.\u001b[39m_drop_axis(labels, axis, level\u001b[38;5;241m=\u001b[39mlevel, errors\u001b[38;5;241m=\u001b[39merrors)\n\u001b[0;32m   4551\u001b[0m \u001b[38;5;28;01mif\u001b[39;00m inplace:\n\u001b[0;32m   4552\u001b[0m     \u001b[38;5;28mself\u001b[39m\u001b[38;5;241m.\u001b[39m_update_inplace(obj)\n",
      "File \u001b[1;32m~\\anaconda3\\Lib\\site-packages\\pandas\\core\\generic.py:4591\u001b[0m, in \u001b[0;36mNDFrame._drop_axis\u001b[1;34m(self, labels, axis, level, errors, only_slice)\u001b[0m\n\u001b[0;32m   4589\u001b[0m         new_axis \u001b[38;5;241m=\u001b[39m axis\u001b[38;5;241m.\u001b[39mdrop(labels, level\u001b[38;5;241m=\u001b[39mlevel, errors\u001b[38;5;241m=\u001b[39merrors)\n\u001b[0;32m   4590\u001b[0m     \u001b[38;5;28;01melse\u001b[39;00m:\n\u001b[1;32m-> 4591\u001b[0m         new_axis \u001b[38;5;241m=\u001b[39m axis\u001b[38;5;241m.\u001b[39mdrop(labels, errors\u001b[38;5;241m=\u001b[39merrors)\n\u001b[0;32m   4592\u001b[0m     indexer \u001b[38;5;241m=\u001b[39m axis\u001b[38;5;241m.\u001b[39mget_indexer(new_axis)\n\u001b[0;32m   4594\u001b[0m \u001b[38;5;66;03m# Case for non-unique axis\u001b[39;00m\n\u001b[0;32m   4595\u001b[0m \u001b[38;5;28;01melse\u001b[39;00m:\n",
      "File \u001b[1;32m~\\anaconda3\\Lib\\site-packages\\pandas\\core\\indexes\\base.py:6699\u001b[0m, in \u001b[0;36mIndex.drop\u001b[1;34m(self, labels, errors)\u001b[0m\n\u001b[0;32m   6697\u001b[0m \u001b[38;5;28;01mif\u001b[39;00m mask\u001b[38;5;241m.\u001b[39many():\n\u001b[0;32m   6698\u001b[0m     \u001b[38;5;28;01mif\u001b[39;00m errors \u001b[38;5;241m!=\u001b[39m \u001b[38;5;124m\"\u001b[39m\u001b[38;5;124mignore\u001b[39m\u001b[38;5;124m\"\u001b[39m:\n\u001b[1;32m-> 6699\u001b[0m         \u001b[38;5;28;01mraise\u001b[39;00m \u001b[38;5;167;01mKeyError\u001b[39;00m(\u001b[38;5;124mf\u001b[39m\u001b[38;5;124m\"\u001b[39m\u001b[38;5;132;01m{\u001b[39;00m\u001b[38;5;28mlist\u001b[39m(labels[mask])\u001b[38;5;132;01m}\u001b[39;00m\u001b[38;5;124m not found in axis\u001b[39m\u001b[38;5;124m\"\u001b[39m)\n\u001b[0;32m   6700\u001b[0m     indexer \u001b[38;5;241m=\u001b[39m indexer[\u001b[38;5;241m~\u001b[39mmask]\n\u001b[0;32m   6701\u001b[0m \u001b[38;5;28;01mreturn\u001b[39;00m \u001b[38;5;28mself\u001b[39m\u001b[38;5;241m.\u001b[39mdelete(indexer)\n",
      "\u001b[1;31mKeyError\u001b[0m: \"['Unnamed: 2', 'Unnamed: 3', 'Unnamed: 4'] not found in axis\""
     ]
    }
   ],
   "source": [
    "# Drop unnecessary columns\n",
    "spam.drop(['Unnamed: 2', 'Unnamed: 3', 'Unnamed: 4'], axis=1, inplace=True)\n",
    "spam.head(20)"
   ]
  },
  {
   "cell_type": "code",
   "execution_count": 4,
   "metadata": {
    "id": "wZHM9T4kH1oP"
   },
   "outputs": [
    {
     "ename": "FileNotFoundError",
     "evalue": "[Errno 2] No such file or directory: 'StopWords.txt'",
     "output_type": "error",
     "traceback": [
      "\u001b[1;31m---------------------------------------------------------------------------\u001b[0m",
      "\u001b[1;31mFileNotFoundError\u001b[0m                         Traceback (most recent call last)",
      "Cell \u001b[1;32mIn[4], line 2\u001b[0m\n\u001b[0;32m      1\u001b[0m \u001b[38;5;66;03m# Create a list of stop words\u001b[39;00m\n\u001b[1;32m----> 2\u001b[0m \u001b[38;5;28;01mwith\u001b[39;00m \u001b[38;5;28mopen\u001b[39m(\u001b[38;5;124m'\u001b[39m\u001b[38;5;124mStopWords.txt\u001b[39m\u001b[38;5;124m'\u001b[39m) \u001b[38;5;28;01mas\u001b[39;00m file:\n\u001b[0;32m      3\u001b[0m     lines \u001b[38;5;241m=\u001b[39m [line\u001b[38;5;241m.\u001b[39mrstrip() \u001b[38;5;28;01mfor\u001b[39;00m line \u001b[38;5;129;01min\u001b[39;00m file]\n",
      "File \u001b[1;32m~\\anaconda3\\Lib\\site-packages\\IPython\\core\\interactiveshell.py:286\u001b[0m, in \u001b[0;36m_modified_open\u001b[1;34m(file, *args, **kwargs)\u001b[0m\n\u001b[0;32m    279\u001b[0m \u001b[38;5;28;01mif\u001b[39;00m file \u001b[38;5;129;01min\u001b[39;00m {\u001b[38;5;241m0\u001b[39m, \u001b[38;5;241m1\u001b[39m, \u001b[38;5;241m2\u001b[39m}:\n\u001b[0;32m    280\u001b[0m     \u001b[38;5;28;01mraise\u001b[39;00m \u001b[38;5;167;01mValueError\u001b[39;00m(\n\u001b[0;32m    281\u001b[0m         \u001b[38;5;124mf\u001b[39m\u001b[38;5;124m\"\u001b[39m\u001b[38;5;124mIPython won\u001b[39m\u001b[38;5;124m'\u001b[39m\u001b[38;5;124mt let you open fd=\u001b[39m\u001b[38;5;132;01m{\u001b[39;00mfile\u001b[38;5;132;01m}\u001b[39;00m\u001b[38;5;124m by default \u001b[39m\u001b[38;5;124m\"\u001b[39m\n\u001b[0;32m    282\u001b[0m         \u001b[38;5;124m\"\u001b[39m\u001b[38;5;124mas it is likely to crash IPython. If you know what you are doing, \u001b[39m\u001b[38;5;124m\"\u001b[39m\n\u001b[0;32m    283\u001b[0m         \u001b[38;5;124m\"\u001b[39m\u001b[38;5;124myou can use builtins\u001b[39m\u001b[38;5;124m'\u001b[39m\u001b[38;5;124m open.\u001b[39m\u001b[38;5;124m\"\u001b[39m\n\u001b[0;32m    284\u001b[0m     )\n\u001b[1;32m--> 286\u001b[0m \u001b[38;5;28;01mreturn\u001b[39;00m io_open(file, \u001b[38;5;241m*\u001b[39margs, \u001b[38;5;241m*\u001b[39m\u001b[38;5;241m*\u001b[39mkwargs)\n",
      "\u001b[1;31mFileNotFoundError\u001b[0m: [Errno 2] No such file or directory: 'StopWords.txt'"
     ]
    }
   ],
   "source": [
    "# Create a list of stop words\n",
    "with open('StopWords.txt') as file:\n",
    "    lines = [line.rstrip() for line in file]"
   ]
  },
  {
   "cell_type": "code",
   "execution_count": null,
   "metadata": {
    "colab": {
     "base_uri": "https://localhost:8080/"
    },
    "id": "1hiOW_tbaM3N",
    "outputId": "f1f19c3f-2e73-42d1-9267-fd98f8d49248"
   },
   "outputs": [],
   "source": [
    "def getTopSpam(df, commonWords, num):\n",
    "  '''\n",
    "  Returns the top 'num' spam words in the dataset 'df'\n",
    "  '''\n",
    "  spam = {}\n",
    "  ham = []\n",
    "\n",
    "  # Gets count of all words in spam that are not in the list of common words\n",
    "  for idx in range(len(df.index)):\n",
    "    message = df.iat[idx, 1]\n",
    "    words = message.split()\n",
    "    for word in words:\n",
    "      if word not in commonWords and df.iat[idx, 0] == \"spam\":\n",
    "        if word not in spam:\n",
    "          spam[word] = 1\n",
    "        elif word in spam:\n",
    "          spam[word] = spam[word] + 1\n",
    "\n",
    "  spam = sorted(spam.items(), key=lambda x:x[1], reverse=True)\n",
    "  return dict(spam[:num])\n",
    "\n",
    "result = getTopSpam(spam, lines, 5)\n",
    "result"
   ]
  },
  {
   "cell_type": "code",
   "execution_count": null,
   "metadata": {
    "id": "fAdmWXu2v-l-"
   },
   "outputs": [],
   "source": [
    "def vectorize(df, top):\n",
    "  '''\n",
    "  Convert texts to vectors of integers.\n",
    "  0 is not present and 1 is present.\n",
    "  The order of the words in the vector are dependent on their rank.\n",
    "  Highest count is at index 0.\n",
    "  '''\n",
    "  vectors = []\n",
    "  for i in range(len(df.index)):\n",
    "    message = df.iat[i, 1]\n",
    "    message = message.split()\n",
    "    vector = []\n",
    "    for word in top:\n",
    "      if word in message:\n",
    "        vector.append(1)\n",
    "      else:\n",
    "        vector.append(0)\n",
    "    vectors.append(vector)\n",
    "\n",
    "  df['Vectors'] = vectors\n",
    "\n",
    "vectorize(spam, result)"
   ]
  },
  {
   "cell_type": "code",
   "execution_count": null,
   "metadata": {
    "id": "iz1oPY7qzvYk"
   },
   "outputs": [],
   "source": [
    "def trainTestSplit(df):\n",
    "  length = len(spam.index)\n",
    "  split_limit = int(length * 0.7)\n",
    "  train = spam[0:split_limit]\n",
    "  test = spam[split_limit:length]\n",
    "  return train, test\n",
    "\n",
    "train, test = trainTestSplit(spam)"
   ]
  },
  {
   "cell_type": "code",
   "execution_count": null,
   "metadata": {
    "colab": {
     "base_uri": "https://localhost:8080/",
     "height": 424
    },
    "id": "OAw3ZAlzrvNZ",
    "outputId": "df1c2807-f8a7-47a2-cc58-de9ad248640a"
   },
   "outputs": [],
   "source": [
    "def makeProbTable(trainDF):\n",
    "  '''\n",
    "  Compute probability table given a training dataframe.\n",
    "  Need to look up P(x_i | y) where x_i is one of the 'spam words' and y is spam/ham\n",
    "  '''\n",
    "  feature_records = []\n",
    "  for idx in range(len(trainDF)):\n",
    "    feature_vector = []\n",
    "    msg = trainDF.iat[idx, 1]\n",
    "    label = trainDF.iat[idx, 0]\n",
    "    for word in result.keys():\n",
    "      feature_vector.append(1 if word in msg else 0)\n",
    "    feature_vector.append(label)\n",
    "    feature_records.append(feature_vector)\n",
    "  feature_df = pd.DataFrame(feature_records)\n",
    "  columns = list(result.keys())\n",
    "  columns.append('label')\n",
    "  feature_df.columns = columns\n",
    "  return feature_df\n",
    "\n",
    "probTable = makeProbTable(train)\n",
    "probTable"
   ]
  },
  {
   "cell_type": "code",
   "execution_count": null,
   "metadata": {
    "colab": {
     "base_uri": "https://localhost:8080/"
    },
    "id": "8OzqY0BAtF1R",
    "outputId": "aed6c226-dad3-468f-aeee-efd5b3b746e9"
   },
   "outputs": [],
   "source": [
    "# Get probabilty of labels appearing in dataset\n",
    "p_spam = probTable[probTable.label == 'spam'].label.count() / probTable.shape[0]\n",
    "p_ham = probTable[probTable.label == 'ham'].label.count() / probTable.shape[0]\n",
    "print(p_spam, p_ham)"
   ]
  },
  {
   "cell_type": "code",
   "execution_count": null,
   "metadata": {
    "id": "mLwxC0lHtb_u"
   },
   "outputs": [],
   "source": [
    "def getProbWord(label, probTable):\n",
    "  '''\n",
    "  Calculates the probability of a 'top' word appearing in the dataset given a label\n",
    "  '''\n",
    "  df = probTable[probTable.label == label]\n",
    "  counts = df[result.keys()].sum(axis=0) # compute # of 1s\n",
    "  word_probs = counts / df.shape[0]\n",
    "  word_probs = word_probs.to_dict()\n",
    "  return word_probs\n",
    "\n",
    "# each of these dictionaries has key (feature word): value (p(feature=1|label))\n",
    "spam_probs = getProbWord(\"spam\", probTable)\n",
    "ham_probs = getProbWord(\"ham\", probTable)"
   ]
  },
  {
   "cell_type": "code",
   "execution_count": null,
   "metadata": {
    "id": "mhHmkVZvmrsJ"
   },
   "outputs": [],
   "source": [
    "def predict(feature_vector):\n",
    "  '''\n",
    "  Performs the Naive Bayes calculation P(y | x_i) = P(x_i) * P(y)\n",
    "  Returns the label with the higher probability.\n",
    "  '''\n",
    "  ham_prob = p_ham\n",
    "  spam_prob = p_spam\n",
    "  feature_words = list(result.keys())\n",
    "  for idx in range(len(feature_vector)):\n",
    "    current_word = feature_words[idx]\n",
    "    if feature_vector[idx] == 1:\n",
    "      ham_prob = ham_prob * ham_probs[current_word]\n",
    "      spam_prob = spam_prob * spam_probs[current_word]\n",
    "    else:\n",
    "      # to compute p(x_i=0|label), we just subtract that\n",
    "      # probably from 1: so p(x_i=0|label) = 1 - p(x_i=1|label).\n",
    "      # Why do you think that is? Would that work with multiclass\n",
    "      # naive bayes?\n",
    "      ham_prob = ham_prob * (1-ham_probs[current_word])\n",
    "      spam_prob = spam_prob * (1-spam_probs[current_word])\n",
    "  print(f\"P(spam) = {spam_prob:.2f}\")\n",
    "  print(f\"P(ham) = {ham_prob:.2f}\")\n",
    "  if spam_prob > ham_prob:\n",
    "    return 'spam'\n",
    "  else:\n",
    "    return 'ham'"
   ]
  },
  {
   "cell_type": "code",
   "execution_count": null,
   "metadata": {
    "colab": {
     "base_uri": "https://localhost:8080/"
    },
    "id": "h3b99MHpoS1J",
    "outputId": "3a2fa643-90ef-47f2-c2fc-aa039867745b"
   },
   "outputs": [],
   "source": [
    "# Calculates the percent of messages correctly labeled of the test dataset\n",
    "correct = 0\n",
    "for idx, (label, msg, feature_vector) in test.iterrows():\n",
    "  print(msg)\n",
    "  predicted_label = predict(feature_vector)\n",
    "  print(label, predicted_label)\n",
    "  if label == predicted_label:\n",
    "    correct += 1\n",
    "print(correct / test.shape[0])"
   ]
  },
  {
   "cell_type": "code",
   "execution_count": null,
   "metadata": {
    "id": "9ScwaAAwkVii"
   },
   "outputs": [],
   "source": []
  }
 ],
 "metadata": {
  "colab": {
   "provenance": []
  },
  "kernelspec": {
   "display_name": "Python 3 (ipykernel)",
   "language": "python",
   "name": "python3"
  },
  "language_info": {
   "codemirror_mode": {
    "name": "ipython",
    "version": 3
   },
   "file_extension": ".py",
   "mimetype": "text/x-python",
   "name": "python",
   "nbconvert_exporter": "python",
   "pygments_lexer": "ipython3",
   "version": "3.11.5"
  }
 },
 "nbformat": 4,
 "nbformat_minor": 1
}
